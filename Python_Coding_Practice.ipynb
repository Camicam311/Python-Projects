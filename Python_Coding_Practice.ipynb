{
 "cells": [
  {
   "cell_type": "markdown",
   "metadata": {},
   "source": [
    "## Python Coding Practice\n",
    "\n",
    "Each block of code is my attempt at solving some of HackerRank's 30 day challenges. Note that all challenges have not been solved. The Sample Input and Output are mentioned in the comments"
   ]
  },
  {
   "cell_type": "code",
   "execution_count": 1,
   "metadata": {
    "collapsed": false
   },
   "outputs": [
    {
     "name": "stdout",
     "output_type": "stream",
     "text": [
      "Saurabh\n",
      "Hello, World.\n",
      "Saurabh\n"
     ]
    }
   ],
   "source": [
    "# Day 0: Hello World\n",
    "\n",
    "'''\n",
    "This explores basic input output mentioned in Python 2.7\n",
    "Sample Input: \n",
    "Welcome to Python\n",
    "Sample Output: \n",
    "Hello, World\n",
    "Welcome to Python\n",
    "'''\n",
    "\n",
    "inputString = raw_input() # get a line of input from stdin and save it to our variable\n",
    "\n",
    "# Your first line of output goes here\n",
    "print 'Hello, World.'\n",
    "\n",
    "# Write the second line of output\n",
    "print inputString"
   ]
  },
  {
   "cell_type": "code",
   "execution_count": 5,
   "metadata": {
    "collapsed": false
   },
   "outputs": [
    {
     "name": "stdout",
     "output_type": "stream",
     "text": [
      "3\n",
      "4\n",
      "ssk\n",
      "7\n",
      "8.0\n",
      "hellossk\n"
     ]
    }
   ],
   "source": [
    "# Day 1: Data Types\n",
    "\n",
    "'''\n",
    "We will explore the data types in python (int, float and string)\n",
    "\n",
    "'''\n",
    "i = 4\n",
    "d = 4.0\n",
    "s = \"hello \"\n",
    "\n",
    "import os\n",
    "# Declare second integer, double, and String variables.\n",
    "# Read and save an integer, double, and String to your variables.\n",
    "a = int(raw_input())\n",
    "b = float(raw_input())\n",
    "c = raw_input()\n",
    "# Print the sum of both integer variables on a new line.\n",
    "print(a+i)\n",
    "# Print the sum of the double variables on a new line.\n",
    "print(b+d)\n",
    "# Concatenate and print the String variables on a new line\n",
    "print(s+c)\n",
    "# The 's' variable above should be printed first."
   ]
  },
  {
   "cell_type": "code",
   "execution_count": null,
   "metadata": {
    "collapsed": true
   },
   "outputs": [],
   "source": []
  }
 ],
 "metadata": {
  "anaconda-cloud": {},
  "kernelspec": {
   "display_name": "Python [Root]",
   "language": "python",
   "name": "Python [Root]"
  },
  "language_info": {
   "codemirror_mode": {
    "name": "ipython",
    "version": 2
   },
   "file_extension": ".py",
   "mimetype": "text/x-python",
   "name": "python",
   "nbconvert_exporter": "python",
   "pygments_lexer": "ipython2",
   "version": "2.7.12"
  }
 },
 "nbformat": 4,
 "nbformat_minor": 0
}
