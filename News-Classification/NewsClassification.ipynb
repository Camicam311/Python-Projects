{
 "cells": [
  {
   "cell_type": "markdown",
   "metadata": {},
   "source": [
    "# Text Classification using Multinomial Naive Bayes\n",
    "\n",
    "We will build a generative model to classify news documents according to their topics. There are 7 main files to worry about. \n",
    "\n",
    "1. train.data\n",
    "2. train.label\n",
    "3. train.map\n",
    "4. test.data\n",
    "5. test.label\n",
    "6. test.map\n",
    "7. vocabulary.txt\n",
    "\n",
    "The .data files contain 3 columns: \"docIdx wordIdx count\". The .label files are simply a list of label id's. The .map files map the label id's to the label names. vocabulary.txt contains the vocabulary for indexed data. The line number corresponds to the index number of the word (word on first line is word #1, word on second line is word #2 and so on."
   ]
  },
  {
   "cell_type": "code",
   "execution_count": 1,
   "metadata": {
    "collapsed": true
   },
   "outputs": [],
   "source": [
    "# Importing all necessary libraries\n",
    "\n",
    "import math\n",
    "import random\n",
    "import matplotlib.pyplot as plt\n",
    "import numpy as np\n",
    "import scipy as sc\n",
    "import sklearn as skl\n",
    "import pandas as pd\n",
    "%matplotlib inline"
   ]
  },
  {
   "cell_type": "code",
   "execution_count": 2,
   "metadata": {
    "collapsed": false
   },
   "outputs": [
    {
     "name": "stdout",
     "output_type": "stream",
     "text": [
      "   WordIndex       Word\n",
      "0          1    archive\n",
      "1          2       name\n",
      "2          3    atheism\n",
      "3          4  resources\n",
      "WordIndex     int64\n",
      "Word         object\n",
      "dtype: object\n"
     ]
    }
   ],
   "source": [
    "fv = open('vocabulary.txt','r')\n",
    "a = fv.readlines()\n",
    "\n",
    "## Create a dictionary of all words\n",
    "dicts={}\n",
    "count = 0\n",
    "for i in a:\n",
    "    if(i!='\\n'):\n",
    "        count = count + 1\n",
    "        dicts[int(count)] = i.rstrip('\\n')\n",
    "\n",
    "vocabDF = pd.DataFrame(dicts.items(), columns=['WordIndex', 'Word']) # Created DataFrame\n",
    "print vocabDF.head(4)\n",
    "print vocabDF.dtypes\n",
    "\n",
    "vocabArray = np.array(vocabDF) # Created Numpy Array"
   ]
  },
  {
   "cell_type": "code",
   "execution_count": 3,
   "metadata": {
    "collapsed": false
   },
   "outputs": [],
   "source": [
    "tr = pd.read_csv('train.data', sep=\" \", header = None)\n",
    "tr.columns = [\"DocIndex\",\"WordIndex\",\"WordCount\"]\n",
    "trainDF = pd.DataFrame(tr) # Created DataFrame\n",
    "trainDF.head(5)\n",
    "\n",
    "traintemp = trainDF"
   ]
  },
  {
   "cell_type": "code",
   "execution_count": 4,
   "metadata": {
    "collapsed": false
   },
   "outputs": [
    {
     "data": {
      "text/html": [
       "<div>\n",
       "<table border=\"1\" class=\"dataframe\">\n",
       "  <thead>\n",
       "    <tr style=\"text-align: right;\">\n",
       "      <th></th>\n",
       "      <th>DocIndex</th>\n",
       "      <th>WordIndex</th>\n",
       "      <th>WordCount</th>\n",
       "      <th>Word</th>\n",
       "      <th>ClassLabel</th>\n",
       "    </tr>\n",
       "  </thead>\n",
       "  <tbody>\n",
       "    <tr>\n",
       "      <th>0</th>\n",
       "      <td>1</td>\n",
       "      <td>1</td>\n",
       "      <td>4</td>\n",
       "      <td>archive</td>\n",
       "      <td>1</td>\n",
       "    </tr>\n",
       "    <tr>\n",
       "      <th>1</th>\n",
       "      <td>1</td>\n",
       "      <td>2</td>\n",
       "      <td>2</td>\n",
       "      <td>name</td>\n",
       "      <td>1</td>\n",
       "    </tr>\n",
       "    <tr>\n",
       "      <th>2</th>\n",
       "      <td>1</td>\n",
       "      <td>3</td>\n",
       "      <td>10</td>\n",
       "      <td>atheism</td>\n",
       "      <td>1</td>\n",
       "    </tr>\n",
       "    <tr>\n",
       "      <th>3</th>\n",
       "      <td>1</td>\n",
       "      <td>4</td>\n",
       "      <td>4</td>\n",
       "      <td>resources</td>\n",
       "      <td>1</td>\n",
       "    </tr>\n",
       "    <tr>\n",
       "      <th>4</th>\n",
       "      <td>1</td>\n",
       "      <td>5</td>\n",
       "      <td>2</td>\n",
       "      <td>alt</td>\n",
       "      <td>1</td>\n",
       "    </tr>\n",
       "    <tr>\n",
       "      <th>5</th>\n",
       "      <td>1</td>\n",
       "      <td>6</td>\n",
       "      <td>1</td>\n",
       "      <td>last</td>\n",
       "      <td>1</td>\n",
       "    </tr>\n",
       "    <tr>\n",
       "      <th>6</th>\n",
       "      <td>1</td>\n",
       "      <td>7</td>\n",
       "      <td>1</td>\n",
       "      <td>modified</td>\n",
       "      <td>1</td>\n",
       "    </tr>\n",
       "    <tr>\n",
       "      <th>7</th>\n",
       "      <td>1</td>\n",
       "      <td>8</td>\n",
       "      <td>1</td>\n",
       "      <td>december</td>\n",
       "      <td>1</td>\n",
       "    </tr>\n",
       "    <tr>\n",
       "      <th>8</th>\n",
       "      <td>1</td>\n",
       "      <td>9</td>\n",
       "      <td>3</td>\n",
       "      <td>version</td>\n",
       "      <td>1</td>\n",
       "    </tr>\n",
       "    <tr>\n",
       "      <th>9</th>\n",
       "      <td>1</td>\n",
       "      <td>10</td>\n",
       "      <td>9</td>\n",
       "      <td>atheist</td>\n",
       "      <td>1</td>\n",
       "    </tr>\n",
       "  </tbody>\n",
       "</table>\n",
       "</div>"
      ],
      "text/plain": [
       "   DocIndex  WordIndex  WordCount       Word ClassLabel\n",
       "0         1          1          4    archive          1\n",
       "1         1          2          2       name          1\n",
       "2         1          3         10    atheism          1\n",
       "3         1          4          4  resources          1\n",
       "4         1          5          2        alt          1\n",
       "5         1          6          1       last          1\n",
       "6         1          7          1   modified          1\n",
       "7         1          8          1   december          1\n",
       "8         1          9          3    version          1\n",
       "9         1         10          9    atheist          1"
      ]
     },
     "execution_count": 4,
     "metadata": {},
     "output_type": "execute_result"
    }
   ],
   "source": [
    "# Merge Training Frame using vocab frame\n",
    "trainDF = trainDF.merge(vocabDF,on=\"WordIndex\")\n",
    "f = open('train.label','r')\n",
    "a = f.readlines()\n",
    "dicts={}\n",
    "count = 0\n",
    "for i in a:\n",
    "    if(i!='\\n'):\n",
    "        count = count + 1\n",
    "        dicts[int(count)] = i.rstrip('\\n')\n",
    "trlabel = pd.DataFrame(dicts.items(), columns=['DocIndex', 'ClassLabel'])        \n",
    "traintemp = trainDF.merge(trlabel,on=\"DocIndex\")\n",
    "trainArray = np.array(traintemp) # Created Numpy Array\n",
    "trainDF = trainDF.merge(trlabel,on=\"DocIndex\")\n",
    "trainDF.head(10)\n",
    "# trainDF is our training Set and it is now complete"
   ]
  },
  {
   "cell_type": "markdown",
   "metadata": {
    "collapsed": true
   },
   "source": [
    "There are 20 possible labels of the articles (as mentioned by \"ClassLabels\" in the DF). So we will be classifying test cases into those labels."
   ]
  },
  {
   "cell_type": "code",
   "execution_count": null,
   "metadata": {
    "collapsed": true
   },
   "outputs": [],
   "source": []
  }
 ],
 "metadata": {
  "anaconda-cloud": {},
  "kernelspec": {
   "display_name": "Python [Root]",
   "language": "python",
   "name": "Python [Root]"
  },
  "language_info": {
   "codemirror_mode": {
    "name": "ipython",
    "version": 2
   },
   "file_extension": ".py",
   "mimetype": "text/x-python",
   "name": "python",
   "nbconvert_exporter": "python",
   "pygments_lexer": "ipython2",
   "version": "2.7.12"
  }
 },
 "nbformat": 4,
 "nbformat_minor": 0
}
